{
 "cells": [
  {
   "cell_type": "markdown",
   "id": "1114c872-732e-4b0e-a1cb-5b69e35458d1",
   "metadata": {},
   "source": [
    "# Appendix"
   ]
  },
  {
   "cell_type": "markdown",
   "id": "3a96c0f8-5df0-4ad2-9cd2-e14bc267c6bd",
   "metadata": {},
   "source": [
    "Here I want to have some additional regressions I do not want to put in the main body."
   ]
  },
  {
   "cell_type": "code",
   "execution_count": null,
   "id": "e9c82270-f1f8-49eb-8bca-b679a4e16aaf",
   "metadata": {},
   "outputs": [],
   "source": []
  }
 ],
 "metadata": {
  "kernelspec": {
   "display_name": "econark",
   "language": "python",
   "name": "econark"
  },
  "language_info": {
   "codemirror_mode": {
    "name": "ipython",
    "version": 3
   },
   "file_extension": ".py",
   "mimetype": "text/x-python",
   "name": "python",
   "nbconvert_exporter": "python",
   "pygments_lexer": "ipython3",
   "version": "3.11.8"
  }
 },
 "nbformat": 4,
 "nbformat_minor": 5
}
