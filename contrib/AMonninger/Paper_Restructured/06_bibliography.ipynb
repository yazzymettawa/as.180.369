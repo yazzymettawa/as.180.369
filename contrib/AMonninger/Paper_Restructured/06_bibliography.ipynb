{
 "cells": [
  {
   "cell_type": "markdown",
   "id": "b2633979-e28e-4d4d-ac3e-1f70600c0c6e",
   "metadata": {},
   "source": [
    "```{bibliography}\n",
    "```"
   ]
  }
 ],
 "metadata": {
  "kernelspec": {
   "display_name": "econark",
   "language": "python",
   "name": "econark"
  },
  "language_info": {
   "codemirror_mode": {
    "name": "ipython",
    "version": 3
   },
   "file_extension": ".py",
   "mimetype": "text/x-python",
   "name": "python",
   "nbconvert_exporter": "python",
   "pygments_lexer": "ipython3",
   "version": "3.11.10"
  }
 },
 "nbformat": 4,
 "nbformat_minor": 5
}
