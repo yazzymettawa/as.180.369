{
 "cells": [
  {
   "cell_type": "markdown",
   "id": "b2066cea-7c72-4d86-9c94-1c805d070f53",
   "metadata": {},
   "source": [
    "# Main Body\n",
    "Here is the main body with a lot of code.\n",
    "Note that we out abstract, introduction, literature review, and conclusion in separarte markdown files. With this, we can focus on code and data analysis in one file.\n",
    "\n",
    "You can of course reference some other papers here as well, eg: {cite:t}`Hemmelgarn2014-eq`. All cited papers will show up in the bibliography at the end of the file."
   ]
  },
  {
   "cell_type": "code",
   "execution_count": 1,
   "id": "56c6b8f1-f470-42d6-b8a9-71881eddd00f",
   "metadata": {},
   "outputs": [],
   "source": [
    "import numpy as np"
   ]
  },
  {
   "cell_type": "code",
   "execution_count": 2,
   "id": "2a431756-9fc5-4d47-a17b-60f33aec00aa",
   "metadata": {},
   "outputs": [
    {
     "name": "stdout",
     "output_type": "stream",
     "text": [
      "10.0\n"
     ]
    }
   ],
   "source": [
    "x = 4\n",
    "y = 8\n",
    "z = 0.5*x + y\n",
    "print(z)"
   ]
  },
  {
   "cell_type": "markdown",
   "id": "e308f4de-6db1-41e7-b732-dd84aba76e9f",
   "metadata": {
    "user_expressions": [
     {
      "expression": "z",
      "result": {
       "data": {
        "text/plain": "10.0"
       },
       "metadata": {},
       "status": "ok"
      }
     }
    ]
   },
   "source": [
    "or in text: x + y → {eval}`z`"
   ]
  },
  {
   "cell_type": "markdown",
   "id": "3cbcea95-7e74-49fe-b252-747b1ce7c546",
   "metadata": {},
   "source": [
    "let's add something"
   ]
  }
 ],
 "metadata": {
  "kernelspec": {
   "display_name": "econark",
   "language": "python",
   "name": "econark"
  },
  "language_info": {
   "codemirror_mode": {
    "name": "ipython",
    "version": 3
   },
   "file_extension": ".py",
   "mimetype": "text/x-python",
   "name": "python",
   "nbconvert_exporter": "python",
   "pygments_lexer": "ipython3",
   "version": "3.11.10"
  }
 },
 "nbformat": 4,
 "nbformat_minor": 5
}
