{
 "cells": [
  {
   "cell_type": "markdown",
   "id": "845617bf-ad51-41aa-b1dc-56072bd4c083",
   "metadata": {},
   "source": [
    "---\n",
    "title: my analysis of....\n",
    "date: 2024-09-30\n",
    "authors:\n",
    "- name: Adrian Monninger\n",
    "  roles: \n",
    "    - Conceptualization\n",
    "    - Visualization\n",
    "---"
   ]
  },
  {
   "cell_type": "markdown",
   "id": "e20a70c9-5536-44b5-8a96-2a5cc4c88b8a",
   "metadata": {},
   "source": [
    ":::{include} abstract.md\n",
    ":::\n",
    "\n",
    ":::{include} introduction.md\n",
    ":::\n",
    "\n",
    ":::{include} literature.md\n",
    ":::"
   ]
  },
  {
   "cell_type": "markdown",
   "id": "b2066cea-7c72-4d86-9c94-1c805d070f53",
   "metadata": {},
   "source": [
    "# Main Body\n",
    "Here is the main body with a lot of code.\n",
    "Note that we out abstract, introduction, literature review, and conclusion in separarte markdown files. With this, we can focus on code and data analysis in one file.\n",
    "\n",
    "You can of course reference some other papers here as well, eg: {cite:t}`Hemmelgarn2014-eq`. All cited papers will show up in the bibliography at the end of the file."
   ]
  },
  {
   "cell_type": "markdown",
   "id": "7e6de1ae-f2d6-4df4-92a8-e8d6871ac9f3",
   "metadata": {},
   "source": [
    ":::{include} conclusion.md\n",
    ":::"
   ]
  },
  {
   "cell_type": "markdown",
   "id": "12d2ec99-5012-4908-bd66-5bad4283d4ab",
   "metadata": {},
   "source": [
    "```{bibliography}\n",
    "```"
   ]
  }
 ],
 "metadata": {
  "kernelspec": {
   "display_name": "econark",
   "language": "python",
   "name": "econark"
  },
  "language_info": {
   "codemirror_mode": {
    "name": "ipython",
    "version": 3
   },
   "file_extension": ".py",
   "mimetype": "text/x-python",
   "name": "python",
   "nbconvert_exporter": "python",
   "pygments_lexer": "ipython3",
   "version": "3.11.8"
  }
 },
 "nbformat": 4,
 "nbformat_minor": 5
}
