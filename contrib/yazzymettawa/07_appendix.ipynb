{
 "cells": [
  {
   "cell_type": "markdown",
   "id": "1114c872-732e-4b0e-a1cb-5b69e35458d1",
   "metadata": {
    "editable": true,
    "slideshow": {
     "slide_type": ""
    },
    "tags": []
   },
   "source": [
    "# Appendix"
   ]
  },
  {
   "cell_type": "markdown",
   "id": "fcb8b577-e574-4869-a6b0-cd173bfd6e4b",
   "metadata": {},
   "source": [
    "![My Image](litmap.png)"
   ]
  },
  {
   "cell_type": "markdown",
   "id": "bc8f876d-e3f2-4d2a-a7ea-852be3a4f23a",
   "metadata": {},
   "source": [
    "![My Image](OLS.png)"
   ]
  },
  {
   "cell_type": "markdown",
   "id": "f8a1a398-dffa-485f-aabb-b6979bb5cd51",
   "metadata": {},
   "source": [
    "![My Image](WLS.png)"
   ]
  }
 ],
 "metadata": {
  "kernelspec": {
   "display_name": "econark",
   "language": "python",
   "name": "econark"
  },
  "language_info": {
   "codemirror_mode": {
    "name": "ipython",
    "version": 3
   },
   "file_extension": ".py",
   "mimetype": "text/x-python",
   "name": "python",
   "nbconvert_exporter": "python",
   "pygments_lexer": "ipython3",
   "version": "3.11.10"
  }
 },
 "nbformat": 4,
 "nbformat_minor": 5
}
