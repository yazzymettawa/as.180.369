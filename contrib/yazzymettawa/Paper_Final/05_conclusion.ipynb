{
 "cells": [
  {
   "cell_type": "markdown",
   "id": "9276e551-12e3-43a3-885c-8b86de299d45",
   "metadata": {
    "editable": true,
    "slideshow": {
     "slide_type": ""
    },
    "tags": []
   },
   "source": [
    "# Conclusion"
   ]
  },
  {
   "cell_type": "markdown",
   "id": "3419e195-3657-47c8-a002-de0c03c27608",
   "metadata": {
    "editable": true,
    "slideshow": {
     "slide_type": ""
    },
    "tags": []
   },
   "source": [
    "In this paper, the question of how the labor force participation rate from 1953 until 2020 in the United States varied with political party governance was explored. The findings are that both the state level, as determined by the governor's political party affiliation, and the national level, as determined by the president's political party affiliation, had no statistically significant correlation with the labor force participation rate of the state or country. Further research into other branches of government and political affiliations, both local and in the House of Representatives can be used to further describe the existence or non-existence of a relationship. Some limitations include the limited time scope due to data constraints, as well as the lack of statistical accounting for economic and social factors affecting labor force participation rates outside of preliminary research. In terms of broader implications, specific policies, and their effects would need to be observed as opposed to the general policies of each political party to determine their effectiveness. "
   ]
  },
  {
   "cell_type": "code",
   "execution_count": null,
   "id": "0ec5b260-acd3-48a7-9f79-b35cab7519ae",
   "metadata": {},
   "outputs": [],
   "source": []
  }
 ],
 "metadata": {
  "kernelspec": {
   "display_name": "econark",
   "language": "python",
   "name": "econark"
  },
  "language_info": {
   "codemirror_mode": {
    "name": "ipython",
    "version": 3
   },
   "file_extension": ".py",
   "mimetype": "text/x-python",
   "name": "python",
   "nbconvert_exporter": "python",
   "pygments_lexer": "ipython3",
   "version": "3.11.8"
  }
 },
 "nbformat": 4,
 "nbformat_minor": 5
}
