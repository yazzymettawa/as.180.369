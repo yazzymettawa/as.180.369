{
 "cells": [
  {
   "cell_type": "markdown",
   "id": "2f92fe02-ae71-4c46-9630-ccedcec8b0a1",
   "metadata": {},
   "source": [
    ":::{include} 01_abstract.md :::\n",
    "\n",
    ":::{include} 02_introduction.md :::\n",
    "\n",
    ":::{include} 03_literature.md :::\n",
    "\n",
    ":::{include} 04_dataanalysis.ipynb :::\n",
    "\n",
    ":::{include} 05_conclusion.md :::\n",
    "\n",
    ":::{include} 06_bibliography.ipynb :::\n",
    "\n",
    ":::{include} 07_appendix.ipynb :::"
   ]
  },
  {
   "cell_type": "code",
   "execution_count": null,
   "id": "81ecd83b-0eeb-4123-97c1-eeb739d8573b",
   "metadata": {},
   "outputs": [],
   "source": []
  }
 ],
 "metadata": {
  "kernelspec": {
   "display_name": "econark",
   "language": "python",
   "name": "econark"
  },
  "language_info": {
   "codemirror_mode": {
    "name": "ipython",
    "version": 3
   },
   "file_extension": ".py",
   "mimetype": "text/x-python",
   "name": "python",
   "nbconvert_exporter": "python",
   "pygments_lexer": "ipython3",
   "version": "3.11.8"
  }
 },
 "nbformat": 4,
 "nbformat_minor": 5
}
