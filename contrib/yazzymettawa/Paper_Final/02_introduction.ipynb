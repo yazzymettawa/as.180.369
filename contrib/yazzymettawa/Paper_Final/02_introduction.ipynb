{
 "cells": [
  {
   "cell_type": "markdown",
   "id": "ba912452-8e70-4d98-a1cc-389e3547102d",
   "metadata": {
    "editable": true,
    "slideshow": {
     "slide_type": ""
    },
    "tags": []
   },
   "source": [
    "# Introduction"
   ]
  },
  {
   "cell_type": "markdown",
   "id": "a8413c22-dd21-4f3e-a74d-591d0befba58",
   "metadata": {
    "editable": true,
    "slideshow": {
     "slide_type": ""
    },
    "tags": []
   },
   "source": [
    "The research question being explored is: “How does the labor force participation rate from the 1953 until 2020 in the United States vary with political party governance, as well as broader policies implemented by said parties?” The topic seeks to consider factors that lead to changes in labor force participation rates particularly in terms of policy. If there exists a statistically significant relationship policy tendencies of said party will be explored to isolate particular ones with a significant effect. \n",
    "\n",
    "The period of 1953 through 2020 will be used for national statistics on labor force participation rate, however for state wide statistics the period observed will be from 1976 through 2020 as that is the data available from the Federal Reserve Bank of St. Louis.[^1] On a national level the political party of the president will be considered, while on the state level the political party of each governor will be observed excluding the few governors that are registered as independence or under a party other than Democratic or Republican. Using a Weighted Least Squared (WLS) regression for the state level model, the population of the state will be considered in the regression. On the national level an Ordinary Least Squared (OLS) regression will be utilized. \n",
    "\n",
    "The literature suggests  there is a relationship between provisions of childcare by the state as it frees up the time for the mother and the entry of women into the labor force. Meanwhile, disability insurance and social security provisions have been suggested to de-incentivize entry into the labor force. Dependent upon the type of welfare will impact the affect on the labor force participation rate, however since childcare provisions aren’t common in the U.S. democratic policies providing welfare will likely lead to lower labor force participation. Notably however, it is difficult to isolate any individual factor without the consideration of age.\n",
    "\n",
    "The results suggest that there is no direct significant relationship between political party governance and labor force participation rates. \n",
    "\n",
    "[^1]: Federal Reserve Bank of St. Louis. (n.d.). Civilian labor force participation rate [CIVPART]. Federal Reserve Bank of St. Louis. Retrieved November 11, 2024, from https://fred.stlouisfed.org/series/CIVPART"
   ]
  },
  {
   "cell_type": "code",
   "execution_count": null,
   "id": "f26837f0-9501-4aea-8494-0a3ff3d765cb",
   "metadata": {},
   "outputs": [],
   "source": []
  }
 ],
 "metadata": {
  "kernelspec": {
   "display_name": "econark",
   "language": "python",
   "name": "econark"
  },
  "language_info": {
   "codemirror_mode": {
    "name": "ipython",
    "version": 3
   },
   "file_extension": ".py",
   "mimetype": "text/x-python",
   "name": "python",
   "nbconvert_exporter": "python",
   "pygments_lexer": "ipython3",
   "version": "3.11.8"
  }
 },
 "nbformat": 4,
 "nbformat_minor": 5
}
