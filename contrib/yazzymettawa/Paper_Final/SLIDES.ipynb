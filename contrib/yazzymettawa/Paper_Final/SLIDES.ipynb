{
 "cells": [
  {
   "cell_type": "markdown",
   "id": "d442c73e-afc9-4083-893d-a544fad5da61",
   "metadata": {
    "editable": true,
    "slideshow": {
     "slide_type": "slide"
    },
    "tags": []
   },
   "source": [
    "<h1 style=\"text-align: center;\">   </h1>\n",
    "<h1 style=\"text-align: center;\">Labor Force Participation Rates & Political Party</h1>\n",
    "<h3 style=\"text-align: center;\">Subtext Line</h3>\n",
    "\n",
    "\n",
    "&nbsp;\n",
    "\n",
    "<h4 style=\"text-align: center;\"> by Yasmine Mettawa</h4>\n",
    "<h4 style=\"text-align: center;\">December 2, 2024</h4>"
   ]
  },
  {
   "cell_type": "markdown",
   "id": "37fcbb37-9f97-4f2c-b0bc-dfd82b8753a8",
   "metadata": {
    "editable": true,
    "slideshow": {
     "slide_type": "slide"
    },
    "tags": []
   },
   "source": [
    "<h2 style=\"text-align: center;\">--Some Numbers</h2>\n",
    "\n",
    "<ul>\n",
    "  <li>--U.S. GDP Q3 2023 in billions of 27,623.543</li>\n",
    "  <li>--U.S. Personal Consumption Expenditure Q3 2023 in billions of $: 18,734.3</li>\n",
    "  <li>--By far, U.S. GDP's largest component: Consumer Spending</li>\n",
    "  <li>--FRED data: since circa. 2000, consumer Spending = 2/3'rds of total GDP</li>\n",
    "</ul>\n",
    "\n",
    "<img src=\"FRED.png\" alt=\"description\" />"
   ]
  },
  {
   "cell_type": "markdown",
   "id": "6d439c6c-0a2d-4a27-9683-9bcb18b5d60e",
   "metadata": {
    "editable": true,
    "slideshow": {
     "slide_type": "slide"
    },
    "tags": []
   },
   "source": [
    "<h2 style=\"text-align: center;\">Research Question</h2>\n",
    "\n",
    "<ul>\n",
    "  <li>Item 1</li>\n",
    "  <li>Item 2</li>\n",
    "  <li>Item 3</li>\n",
    "</ul>\n",
    "\n",
    "<style>\n",
    "  .container {\n",
    "    text-align: center; /* Centers the image horizontally */\n",
    "  }\n",
    "</style>\n",
    "\n",
    "<div class=\"container\">\n",
    "  <img src=\"FRED.png\" alt=\"description\" />\n",
    "</div>"
   ]
  },
  {
   "cell_type": "markdown",
   "id": "ce27a5e5-288e-494e-b52a-c164fa1d9fa9",
   "metadata": {
    "editable": true,
    "slideshow": {
     "slide_type": "slide"
    },
    "tags": []
   },
   "source": [
    "<h2 style=\"text-align: center;\">Data Analysis</h2>"
   ]
  },
  {
   "cell_type": "markdown",
   "id": "9cd52217-7d09-47e9-9f4e-f49fc9205aa6",
   "metadata": {
    "editable": true,
    "slideshow": {
     "slide_type": "slide"
    },
    "tags": []
   },
   "source": [
    "$$\n",
    "\\text{Weighted Mean} = \\frac{\\sum (\\text{Participation Rate} \\times \\text{Population})}{\\sum \\text{Population}}\n",
    "$$\n",
    "\n",
    "As well as a model of the regression analysis:\n",
    "$$\n",
    "\\text{Labor Force Participation Rate} = \\beta_0 + \\beta_1 \\times \\text{Democratic Governor} + \\epsilon\n",
    "$$\n",
    "\n",
    "Regression Analysis:\n",
    "$$\n",
    "\\text{Labor Force Participation Rate} = \\beta_0 + \\beta_1 \\times \\text{Democratic Governor} + \\epsilon\n",
    "$$"
   ]
  },
  {
   "cell_type": "markdown",
   "id": "6acabafc-960e-4cae-81b2-621226ffe486",
   "metadata": {
    "editable": true,
    "slideshow": {
     "slide_type": "slide"
    },
    "tags": []
   },
   "source": [
    "<h2 style=\"text-align: center;\">Results</h2>"
   ]
  },
  {
   "cell_type": "markdown",
   "id": "8dc95905-4994-4ddd-890b-d78714f77789",
   "metadata": {
    "editable": true,
    "slideshow": {
     "slide_type": "slide"
    },
    "tags": []
   },
   "source": [
    "**State Level**\n",
    "\n",
    "The WLS regression results indicate a  weak relationship between the independent variable (party) and the dependent variable (labor force participation rate). The effect of \"party\" is marginally statistically significant (p ≈ 0.06), but the overall model fit is very poor (R² ≈ 0.002). The low R-squared value indicates that the predictor \"party\" explains almost none of the variance in \"number.\"\n",
    "\n",
    "$$\n",
    "\\text{STATE CIVPART} = 65.4866 + -0.2979 \\times \\text{Party}\n",
    "$$\n",
    "\n",
    "**National Level**\n",
    "The OLS regression results indicate a  weak relationship between the independent variable (party) and the dependent variable (labor force participation rate). The effect of \"party\" is marginally statistically significant (p ≈ 0.669), but the overall model fit is very poor (with an adjusted R² ≈ -0.001). The low R-squared value indicates that the predictor \"party\" explains almost none of the variance in \"number.\"\n",
    "\n",
    "$$\n",
    "\\text{NATIONAL CIVPART} = 63.1123 + 0.0880 \\times \\text{Party}\n",
    "$$\n"
   ]
  },
  {
   "cell_type": "markdown",
   "id": "3a180c45-6a37-40f1-b60d-1f103378426e",
   "metadata": {
    "editable": true,
    "slideshow": {
     "slide_type": "slide"
    },
    "tags": []
   },
   "source": [
    "In this paper, the question of how the labor force participation rate from 1953 until 2020 in the United States varied with political party governance was explored. The findings are that both the state level, as determined by the governor's political party affiliation, and the national level, as determined by the president's political party affiliation, had no statistically significant correlation with the labor force participation rate of the state or country. Further research into other branches of government and political affiliations, both local and in the House of Representatives can be used to further describe the existence or non-existence of a relationship. Some limitations include the limited time scope due to data constraints, as well as the lack of statistical accounting for economic and social factors affecting labor force participation rates outside of preliminary research. In terms of broader implications, specific policies, and their effects would need to be observed as opposed to the general policies of each political party to determine their effectiveness. "
   ]
  },
  {
   "cell_type": "code",
   "execution_count": null,
   "id": "fdf9849b-146c-4287-bc83-cfdde37c4ff3",
   "metadata": {},
   "outputs": [],
   "source": []
  }
 ],
 "metadata": {
  "kernelspec": {
   "display_name": "econark",
   "language": "python",
   "name": "econark"
  },
  "language_info": {
   "codemirror_mode": {
    "name": "ipython",
    "version": 3
   },
   "file_extension": ".py",
   "mimetype": "text/x-python",
   "name": "python",
   "nbconvert_exporter": "python",
   "pygments_lexer": "ipython3",
   "version": "3.11.10"
  }
 },
 "nbformat": 4,
 "nbformat_minor": 5
}
