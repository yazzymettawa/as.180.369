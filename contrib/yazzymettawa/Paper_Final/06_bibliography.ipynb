{
 "cells": [
  {
   "cell_type": "markdown",
   "id": "b2633979-e28e-4d4d-ac3e-1f70600c0c6e",
   "metadata": {
    "editable": true,
    "slideshow": {
     "slide_type": ""
    },
    "tags": []
   },
   "source": [
    "# Bibliography"
   ]
  },
  {
   "cell_type": "markdown",
   "id": "8c8c90ae-00cf-4be0-af9f-97eea96cfbde",
   "metadata": {},
   "source": [
    "[^1]: Alan B. Krueger, Brookings Papers on Economic Activity, Fall 2017\n",
    "[^2]: Autor, David & Duggan, Mark. (2003). The Rise In The Disability Rolls And The Decline In Unemployment. The Quarterly Journal of Economics. 118. 157-205. 10.1162/00335530360535171. \n",
    "[^3]: Parsons, Donald O. “The Decline in Male Labor Force Participation.” Journal of Political Economy, vol. 88, no. 1, 1980, pp. 117–34. JSTOR, http://www.jstor.org/stable/1830962. Accessed 11 Nov. 2024.\n",
    "[^4]: Gustafsson, Siv, and Frank Stafford. “Child Care Subsidies and Labor Supply in Sweden.” The Journal of Human Resources, vol. 27, no. 1, 1992, pp. 204–30. JSTOR, https://doi.org/10.2307/145917. Accessed 11 Nov. 2024.\n",
    "[^5]: Bick, Alexander. “THE QUANTITATIVE ROLE OF CHILD CARE FOR FEMALE LABOR FORCE PARTICIPATION AND FERTILITY.” Journal of the European Economic Association, vol. 14, no. 3, 2016, pp. 639–68. JSTOR, http://www.jstor.org/stable/43965320. Accessed 11 Nov. 2024.\n",
    "[^6]: Borck, Rainald. “‘Adieu Rabenmutter’—Culture, Fertility, Female Labour Supply, the Gender Wage Gap and Childcare.” Journal of Population Economics, vol. 27, no. 3, 2014, pp. 739–65. JSTOR, http://www.jstor.org/stable/44289682. Accessed 11 Nov. 2024.\n",
    "[^7]: Ashraf, Quamrul H., et al. “The Effect of Fertility Reduction on Economic Growth.” Population and Development Review, vol. 39, no. 1, 2013, pp. 97–130. JSTOR, http://www.jstor.org/stable/41811954. Accessed 11 Nov. 2024.\n",
    "[^8]: Johnson, William R., and Jonathan Skinner. “Labor Supply and Marital Separation.” The American Economic Review, vol. 76, no. 3, 1986, pp. 455–69. JSTOR, http://www.jstor.org/stable/1813362. Accessed 11 Nov. 2024.\n",
    "[^9]: Juhn, Chinhui, and Simon Potter. “Changes in Labor Force Participation in the United States.” The Journal of Economic Perspectives, vol. 20, no. 3, 2006, pp. 27–46. JSTOR, http://www.jstor.org/stable/30033665. Accessed 11 Nov. 2024.\n",
    "[^10]: Johnson, William R., and Jonathan Skinner. “Labor Supply and Marital Separation.” The American Economic Review, vol. 76, no. 3, 1986, pp. 455–69. JSTOR, http://www.jstor.org/stable/1813362. Accessed 11 Nov. 2024.\n",
    "[^11]: Juhn, Chinhui, and Simon Potter. “Changes in Labor Force Participation in the United States.” The Journal of Economic Perspectives, vol. 20, no. 3, 2006, pp. 27–46. JSTOR, http://www.jstor.org/stable/30033665. Accessed 11 Nov. 2024.\n",
    "[^12]: Loichinger, Elke, and Alexia Prskawetz. “Changes in Economic Activity: The Role of Age and Education.” Demographic Research, vol. 36, 2017, pp. 1185–208. JSTOR, http://www.jstor.org/stable/26332163. Accessed 11 Nov. 2024."
   ]
  },
  {
   "cell_type": "code",
   "execution_count": 5,
   "id": "7886a4b1-eeda-447d-85f9-062b176a2715",
   "metadata": {
    "editable": true,
    "slideshow": {
     "slide_type": ""
    },
    "tags": []
   },
   "outputs": [
    {
     "name": "stdout",
     "output_type": "stream",
     "text": [
      "Rainald, B. (2011). Adieu rabenmutter - the effect of culture on fertility, female\n",
      "labour supply, the gender wage gap and childcare. SSRN Electron. J., (), .\n",
      "\n",
      "\n",
      "B, K. (2017). Where have all the workers gone? An inquiry into the decline of\n",
      "the {U}.s. labor force participation rate. Brookings Pap. Econ. Act., 2017(2), 1--87.\n",
      "\n",
      "\n",
      "Gary, B. (2013). Can Educational Attainment Explain the Rise in Labor Force\n",
      "Participation at Older Ages?. Center for Retirement Research.\n",
      "\n",
      "\n",
      "Rainald, B. (n.d.). ``Adieu Rabenmutter''—culture, fertility, female labour supply, the\n",
      "gender wage gap and childcare. J. Popul. Econ., (), .\n",
      "\n",
      "\n",
      "H, A., N, W., Joshua, W. (2013). The effect of fertility reduction on economic growth. Popul. Dev. Rev., 39(1), 97--130.\n",
      "\n",
      "\n",
      "R, J., Jonathan, S. (n.d.). Labor Supply and Marital Separation. Publisher not available.\n",
      "\n",
      "\n",
      "Chinhui, J., M, P. (2006). Changes in labor force participation in the United States. Journal of Economic Perspectives, 20(3), 27--46.\n",
      "\n",
      "\n",
      "Elke, L., Alexia, P. (2017). Changes in economic activity: The role of age and education. Demogr. Res., 36(), 1185--1208.\n",
      "\n",
      "\n",
      "And, F. (n.d.). {THE} {QUANTITATIVE} {ROLE} {OF} {CHILD} {CARE} {FOR} {FEMALE}\n",
      "{LABOR} {FORCE} {PARTICIPATION}. Publisher not available.\n",
      "\n",
      "\n",
      "Siv, G., Frank, S. (1992). Child care subsidies and labor supply in Sweden. J. Hum. Resour., 27(1), 204.\n",
      "\n",
      "\n",
      "H, A., G, D. (2003). The rise in the disability rolls and the decline in unemployment. Q. J. Econ., 118(1), 157--206.\n",
      "\n",
      "\n",
      "B, K. (2017). Where Have All the Workers Gone. Brookings Papers on Economic Activity, (Fall 2017), .\n",
      "\n",
      "\n",
      "O, P. (1980). The decline in male labor force participation. J. Polit. Econ., 88(1), 117--134.\n",
      "\n",
      "\n"
     ]
    }
   ],
   "source": [
    "import bibtexparser\n",
    "\n",
    "# Open and load the .bib file\n",
    "with open('newreferences.bib') as bibfile:\n",
    "    bib_database = bibtexparser.load(bibfile)\n",
    "\n",
    "# Function to format each entry in APA style\n",
    "def format_apa(entry):\n",
    "    authors = entry.get('author', '').replace(',', '').split(' and ')\n",
    "    authors = [author.strip() for author in authors]  # Clean up the authors' names\n",
    "\n",
    "    # Format authors in APA style (last name, first initial)\n",
    "    formatted_authors = ', '.join([f\"{name.split(' ')[-1]}, {' '.join(name.split(' ')[:-1])[:1]}.\" for name in authors])\n",
    "    \n",
    "    # Handle publication year\n",
    "    year = entry.get('year', 'n.d.')  # Use 'n.d.' for no date\n",
    "    \n",
    "    # Title of the article\n",
    "    title = entry.get('title', '')\n",
    "    \n",
    "    # Journal details (if applicable)\n",
    "    journal = entry.get('journal', '')\n",
    "    volume = entry.get('volume', '')\n",
    "    issue = entry.get('number', '')\n",
    "    pages = entry.get('pages', '')\n",
    "    \n",
    "    # Build the APA formatted citation\n",
    "    citation = f\"{formatted_authors} ({year}). {title}. {journal}, {volume}({issue}), {pages}.\"\n",
    "    \n",
    "    # If there is no journal, it's likely a book or other type of source.\n",
    "    if not journal:\n",
    "        publisher = entry.get('publisher', 'Publisher not available')\n",
    "        citation = f\"{formatted_authors} ({year}). {title}. {publisher}.\"\n",
    "    \n",
    "    return citation\n",
    "\n",
    "# Print each reference in APA format\n",
    "for entry in bib_database.entries:\n",
    "    citation = format_apa(entry)\n",
    "    print(citation)\n",
    "    print(\"\\n\")  # Separate citations by a newline\n"
   ]
  },
  {
   "cell_type": "code",
   "execution_count": null,
   "id": "6ae80e19-bce3-406b-8843-e42ac505c3cc",
   "metadata": {},
   "outputs": [],
   "source": []
  }
 ],
 "metadata": {
  "kernelspec": {
   "display_name": "econark",
   "language": "python",
   "name": "econark"
  },
  "language_info": {
   "codemirror_mode": {
    "name": "ipython",
    "version": 3
   },
   "file_extension": ".py",
   "mimetype": "text/x-python",
   "name": "python",
   "nbconvert_exporter": "python",
   "pygments_lexer": "ipython3",
   "version": "3.11.10"
  }
 },
 "nbformat": 4,
 "nbformat_minor": 5
}
