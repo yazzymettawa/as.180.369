{
 "cells": [
  {
   "cell_type": "markdown",
   "id": "b2633979-e28e-4d4d-ac3e-1f70600c0c6e",
   "metadata": {
    "editable": true,
    "slideshow": {
     "slide_type": ""
    },
    "tags": []
   },
   "source": [
    "# Bibliography"
   ]
  },
  {
   "cell_type": "markdown",
   "id": "8c8c90ae-00cf-4be0-af9f-97eea96cfbde",
   "metadata": {},
   "source": [
    "[^1]: Alan B. Krueger, Brookings Papers on Economic Activity, Fall 2017\n",
    "[^2]: Autor, David & Duggan, Mark. (2003). The Rise In The Disability Rolls And The Decline In Unemployment. The Quarterly Journal of Economics. 118. 157-205. 10.1162/00335530360535171. \n",
    "[^3]: Parsons, Donald O. “The Decline in Male Labor Force Participation.” Journal of Political Economy, vol. 88, no. 1, 1980, pp. 117–34. JSTOR, http://www.jstor.org/stable/1830962. Accessed 11 Nov. 2024.\n",
    "[^4]: Gustafsson, Siv, and Frank Stafford. “Child Care Subsidies and Labor Supply in Sweden.” The Journal of Human Resources, vol. 27, no. 1, 1992, pp. 204–30. JSTOR, https://doi.org/10.2307/145917. Accessed 11 Nov. 2024.\n",
    "[^5]: Bick, Alexander. “THE QUANTITATIVE ROLE OF CHILD CARE FOR FEMALE LABOR FORCE PARTICIPATION AND FERTILITY.” Journal of the European Economic Association, vol. 14, no. 3, 2016, pp. 639–68. JSTOR, http://www.jstor.org/stable/43965320. Accessed 11 Nov. 2024.\n",
    "[^6]: Borck, Rainald. “‘Adieu Rabenmutter’—Culture, Fertility, Female Labour Supply, the Gender Wage Gap and Childcare.” Journal of Population Economics, vol. 27, no. 3, 2014, pp. 739–65. JSTOR, http://www.jstor.org/stable/44289682. Accessed 11 Nov. 2024.\n",
    "[^7]: Ashraf, Quamrul H., et al. “The Effect of Fertility Reduction on Economic Growth.” Population and Development Review, vol. 39, no. 1, 2013, pp. 97–130. JSTOR, http://www.jstor.org/stable/41811954. Accessed 11 Nov. 2024.\n",
    "[^8]: Johnson, William R., and Jonathan Skinner. “Labor Supply and Marital Separation.” The American Economic Review, vol. 76, no. 3, 1986, pp. 455–69. JSTOR, http://www.jstor.org/stable/1813362. Accessed 11 Nov. 2024.\n",
    "[^9]: Juhn, Chinhui, and Simon Potter. “Changes in Labor Force Participation in the United States.” The Journal of Economic Perspectives, vol. 20, no. 3, 2006, pp. 27–46. JSTOR, http://www.jstor.org/stable/30033665. Accessed 11 Nov. 2024.\n",
    "[^10]: Johnson, William R., and Jonathan Skinner. “Labor Supply and Marital Separation.” The American Economic Review, vol. 76, no. 3, 1986, pp. 455–69. JSTOR, http://www.jstor.org/stable/1813362. Accessed 11 Nov. 2024.\n",
    "[^11]: Juhn, Chinhui, and Simon Potter. “Changes in Labor Force Participation in the United States.” The Journal of Economic Perspectives, vol. 20, no. 3, 2006, pp. 27–46. JSTOR, http://www.jstor.org/stable/30033665. Accessed 11 Nov. 2024.\n",
    "[^12]: Loichinger, Elke, and Alexia Prskawetz. “Changes in Economic Activity: The Role of Age and Education.” Demographic Research, vol. 36, 2017, pp. 1185–208. JSTOR, http://www.jstor.org/stable/26332163. Accessed 11 Nov. 2024."
   ]
  },
  {
   "cell_type": "markdown",
   "id": "1b6cfea6-ba4e-438c-b513-68b0f23a9a78",
   "metadata": {
    "editable": true,
    "slideshow": {
     "slide_type": ""
    },
    "tags": []
   },
   "source": [
    "Ashraf, Quamrul H., et al. “The Effect of Fertility Reduction on Economic Growth.” *Population and Development Review*, vol. 39, no. 1, 2013, pp. 97–130. JSTOR, [http://www.jstor.org/stable/41811954](http://www.jstor.org/stable/41811954). Accessed 11 Nov. 2024.  \n",
    "\n",
    "Autor, David & Duggan, Mark. (2003). The Rise In The Disability Rolls And The Decline In Unemployment. *The Quarterly Journal of Economics*. 118. 157-205. 10.1162/00335530360535171.  \n",
    "Bick, Alexander. “THE QUANTITATIVE ROLE OF CHILD CARE FOR FEMALE LABOR FORCE PARTICIPATION AND FERTILITY.” *Journal of the European Economic Association*, vol. 14, no. 3, 2016, pp. 639–68. JSTOR, [http://www.jstor.org/stable/43965320](http://www.jstor.org/stable/43965320). Accessed 11 Nov. 2024.  \n",
    "\n",
    "Borck, Rainald. “‘Adieu Rabenmutter’—Culture, Fertility, Female Labour Supply, the Gender Wage Gap and Childcare.” *Journal of Population Economics*, vol. 27, no. 3, 2014, pp. 739–65. JSTOR, [http://www.jstor.org/stable/44289682](http://www.jstor.org/stable/44289682). Accessed 11 Nov. 2024.  \n",
    "\n",
    "Federal Reserve Bank of St. Louis. (n.d.). Civilian labor force participation rate [CIVPART]. Federal Reserve Bank of St. Louis. Retrieved November 11, 2024, from https://fred.stlouisfed.org/series/CIVPART\n",
    "\n",
    "Gustafsson, Siv, and Frank Stafford. “Child Care Subsidies and Labor Supply in Sweden.” *The Journal of Human Resources*, vol. 27, no. 1, 1992, pp. 204–30. JSTOR, [https://doi.org/10.2307/145917](https://doi.org/10.2307/145917). Accessed 11 Nov. 2024.  \n",
    "\n",
    "Johnson, William R., and Jonathan Skinner. “Labor Supply and Marital Separation.” *The American Economic Review*, vol. 76, no. 3, 1986, pp. 455–69. JSTOR, [http://www.jstor.org/stable/1813362](http://www.jstor.org/stable/1813362). Accessed 11 Nov. 2024.  \n",
    "\n",
    "Juhn, Chinhui, and Simon Potter. “Changes in Labor Force Participation in the United States.” *The Journal of Economic Perspectives*, vol. 20, no. 3, 2006, pp. 27–46. JSTOR, [http://www.jstor.org/stable/30033665](http://www.jstor.org/stable/30033665). Accessed 11 Nov. 2024.  \n",
    "\n",
    "Johnson, William R., and Jonathan Skinner. “Labor Supply and Marital Separation.” *The American Economic Review*, vol. 76, no. 3, 1986, pp. 455–69. JSTOR, [http://www.jstor.org/stable/1813362](http://www.jstor.org/stable/1813362). Accessed 11 Nov. 2024.  \n",
    "\n",
    "Juhn, Chinhui, and Simon Potter. “Changes in Labor Force Participation in the United States.” *The Journal of Economic Perspectives*, vol. 20, no. 3, 2006, pp. 27–46. JSTOR, [http://www.jstor.org/stable/30033665](http://www.jstor.org/stable/30033665). Accessed 11 Nov. 2024.  \n",
    "\n",
    "Krueger, Alan B. “Brookings Papers on Economic Activity, Fall 2017.” [^1].  \n",
    "\n",
    "Loichinger, Elke, and Alexia Prskawetz. “Changes in Economic Activity: The Role of Age and Education.” *Demographic Research*, vol. 36, 2017, pp. 1185–208. JSTOR, [http://www.jstor.org/stable/26332163](http://www.jstor.org/stable/26332163). Accessed 11 Nov. 2024.  \n",
    "\n",
    "Parsons, Donald O. “The Decline in Male Labor Force Participation.” *Journal of Political Economy*, vol. 88, no. 1, 1980, pp. 117–34. JSTOR, [http://www.jstor.org/stable/1830962](http://www.jstor.org/stable/1830962). Accessed 11 Nov. 2024."
   ]
  },
  {
   "cell_type": "code",
   "execution_count": null,
   "id": "26acc0d2-7761-4329-82cb-17866715a93c",
   "metadata": {},
   "outputs": [],
   "source": []
  }
 ],
 "metadata": {
  "kernelspec": {
   "display_name": "econark",
   "language": "python",
   "name": "econark"
  },
  "language_info": {
   "codemirror_mode": {
    "name": "ipython",
    "version": 3
   },
   "file_extension": ".py",
   "mimetype": "text/x-python",
   "name": "python",
   "nbconvert_exporter": "python",
   "pygments_lexer": "ipython3",
   "version": "3.11.10"
  }
 },
 "nbformat": 4,
 "nbformat_minor": 5
}
