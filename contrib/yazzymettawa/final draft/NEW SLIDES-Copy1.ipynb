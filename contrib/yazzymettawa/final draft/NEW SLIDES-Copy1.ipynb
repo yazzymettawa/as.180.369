{
 "cells": [
  {
   "cell_type": "markdown",
   "id": "d442c73e-afc9-4083-893d-a544fad5da61",
   "metadata": {
    "editable": true,
    "slideshow": {
     "slide_type": "slide"
    },
    "tags": []
   },
   "source": [
    "<h1 style=\"text-align: center;\">Labor Force Participation Rates & Political Party</h1>\n",
    "\n",
    "&nbsp;\n",
    "\n",
    "<h4 style=\"text-align: center;\"> by Yasmine Mettawa</h4>\n",
    "<h4 style=\"text-align: center;\">November 11, 2024</h4>"
   ]
  },
  {
   "cell_type": "markdown",
   "id": "37fcbb37-9f97-4f2c-b0bc-dfd82b8753a8",
   "metadata": {
    "editable": true,
    "slideshow": {
     "slide_type": "slide"
    },
    "tags": []
   },
   "source": [
    "<h2 style=\"text-align: center;\">Abstract</h2>"
   ]
  },
  {
   "cell_type": "markdown",
   "id": "2bae0128-3ba9-4128-a826-b67f303b5e7a",
   "metadata": {
    "editable": true,
    "slideshow": {
     "slide_type": "fragment"
    },
    "tags": []
   },
   "source": [
    "This paper explores how labor force participation rates in the United States from 1953 to 2020 are influenced by political party governance at the state and national level. Using a Weighted Least Squared (WLS) regression, the study analyzes changes in labor force participation, comparing states with Republican governors (treatment group) to those with Democratic governors (control group), as well as an Ordinary Least Squared (OLS) regression analyzing changes in labor force participation against the political party of the president, either Republican (treatment group) or Democratic (control group). The findings suggest that on both the national and state level political party leadership does not correlate with increased labor force participation. Therefore, it can not be concluded that there exists a direct relationship. \n"
   ]
  },
  {
   "cell_type": "markdown",
   "id": "6d439c6c-0a2d-4a27-9683-9bcb18b5d60e",
   "metadata": {
    "editable": true,
    "slideshow": {
     "slide_type": "slide"
    },
    "tags": []
   },
   "source": [
    "<h2 style=\"text-align: center;\">Research Question</h2>"
   ]
  },
  {
   "cell_type": "markdown",
   "id": "afe48873-bc2c-40af-88d3-31e04e81ae08",
   "metadata": {
    "editable": true,
    "slideshow": {
     "slide_type": "slide"
    },
    "tags": []
   },
   "source": [
    "The research question being explored is: “How does the labor force participation rate from the 1953 until 2020 in the United States vary with political party governance, as well as broader policies implemented by said parties?” "
   ]
  },
  {
   "cell_type": "markdown",
   "id": "41789100-d4bd-4f28-b6cd-fda6036affcf",
   "metadata": {
    "editable": true,
    "slideshow": {
     "slide_type": "slide"
    },
    "tags": []
   },
   "source": [
    "<h2 style=\"text-align: center;\">Introduction</h2>"
   ]
  },
  {
   "cell_type": "markdown",
   "id": "a2ac4590-8ce9-4922-beca-231f0a68353d",
   "metadata": {
    "editable": true,
    "slideshow": {
     "slide_type": "slide"
    },
    "tags": []
   },
   "source": [
    "-The topic seeks to consider factors that lead to changes in labor force participation rates \n",
    "-The period of 1953 through 2020 will be used for national statistics on labor force participation rate, however for state wide statistics the period observed will be from 1976 through 2020 as that is the data available from the Federal Reserve Bank of St. Louis. \n",
    "-On a national level the political party of the president will be considered, while on the state level the political party of each governor will be observed excluding the few governors that are registered as independence or under a party other than Democratic or Republican. Using a Weighted Least Squared (WLS) regression for the state level model, the population of the state will be considered in the regression. On the national level an Ordinary Least Squared (OLS) regression will be utilized. "
   ]
  },
  {
   "cell_type": "markdown",
   "id": "a4c71aaa-7b35-4b51-ba9a-85413b314c61",
   "metadata": {
    "editable": true,
    "slideshow": {
     "slide_type": "slide"
    },
    "tags": []
   },
   "source": [
    "<h2 style=\"text-align: center;\">Literature Review</h2>"
   ]
  },
  {
   "cell_type": "markdown",
   "id": "bc9767c8-aada-4b15-8d24-931dd1d07f0f",
   "metadata": {
    "editable": true,
    "slideshow": {
     "slide_type": "slide"
    },
    "tags": []
   },
   "source": [
    "Four factors and their relationship to labor force participation rates were frequently brought up in the literature. The contribution to labor force participation rates that will be examined are: \n",
    "-health\n",
    "-social welfare programs\n",
    "-educational policies\n",
    "-family planning initiatives\n",
    "\n",
    "Together, several studies suggest there is a relationship between provisions of childcare by the state as it frees up the time for the mother and the entry of women into the labor force. Meanwhile, disability insurance and social security provisions have been suggested to de-incentivize entry into the labor force. Dependent upon the type of welfare will impact the affect on the labor force participation rate, however since childcare provisions aren’t common in the U.S. democratic policies providing welfare will likely lead to lower labor force participation. Notably however, it is difficult to isolate any individual factor without the consideration of age."
   ]
  },
  {
   "cell_type": "markdown",
   "id": "ce27a5e5-288e-494e-b52a-c164fa1d9fa9",
   "metadata": {
    "editable": true,
    "slideshow": {
     "slide_type": "slide"
    },
    "tags": []
   },
   "source": [
    "<h2 style=\"text-align: center;\">Data Analysis</h2>"
   ]
  },
  {
   "cell_type": "markdown",
   "id": "9cd52217-7d09-47e9-9f4e-f49fc9205aa6",
   "metadata": {
    "editable": true,
    "slideshow": {
     "slide_type": "slide"
    },
    "tags": []
   },
   "source": [
    "$$\n",
    "\\text{Weighted Mean} = \\frac{\\sum (\\text{Participation Rate} \\times \\text{Population})}{\\sum \\text{Population}}\n",
    "$$\n",
    "\n",
    "As well as a model of the regression analysis:\n",
    "$$\n",
    "\\text{Labor Force Participation Rate} = \\beta_0 + \\beta_1 \\times \\text{Democratic Governor} + \\epsilon\n",
    "$$\n",
    "\n",
    "Regression Analysis:\n",
    "$$\n",
    "\\text{Labor Force Participation Rate} = \\beta_0 + \\beta_1 \\times \\text{Democratic Governor} + \\epsilon\n",
    "$$"
   ]
  },
  {
   "cell_type": "markdown",
   "id": "6acabafc-960e-4cae-81b2-621226ffe486",
   "metadata": {
    "editable": true,
    "slideshow": {
     "slide_type": "slide"
    },
    "tags": []
   },
   "source": [
    "<h2 style=\"text-align: center;\">Results</h2>"
   ]
  },
  {
   "cell_type": "markdown",
   "id": "8dc95905-4994-4ddd-890b-d78714f77789",
   "metadata": {
    "editable": true,
    "slideshow": {
     "slide_type": "slide"
    },
    "tags": []
   },
   "source": [
    "**State Level**\n",
    "\n",
    "The WLS regression results indicate a  weak relationship between the independent variable (party) and the dependent variable (labor force participation rate). The effect of \"party\" is marginally statistically significant (p ≈ 0.06), but the overall model fit is very poor (R² ≈ 0.002). The low R-squared value indicates that the predictor \"party\" explains almost none of the variance in \"number.\"\n",
    "\n",
    "$$\n",
    "\\text{STATE CIVPART} = 65.4866 + -0.2979 \\times \\text{Party}\n",
    "$$\n",
    "\n",
    "**National Level**\n",
    "The OLS regression results indicate a  weak relationship between the independent variable (party) and the dependent variable (labor force participation rate). The effect of \"party\" is marginally statistically significant (p ≈ 0.669), but the overall model fit is very poor (with an adjusted R² ≈ -0.001). The low R-squared value indicates that the predictor \"party\" explains almost none of the variance in \"number.\"\n",
    "\n",
    "$$\n",
    "\\text{NATIONAL CIVPART} = 63.1123 + 0.0880 \\times \\text{Party}\n",
    "$$\n"
   ]
  },
  {
   "cell_type": "markdown",
   "id": "6eea48d2-729e-4e9d-aa4f-5606e993af67",
   "metadata": {
    "editable": true,
    "slideshow": {
     "slide_type": "slide"
    },
    "tags": []
   },
   "source": [
    "<h2 style=\"text-align: center;\">Conclusion</h2>"
   ]
  },
  {
   "cell_type": "markdown",
   "id": "3a180c45-6a37-40f1-b60d-1f103378426e",
   "metadata": {
    "editable": true,
    "slideshow": {
     "slide_type": "slide"
    },
    "tags": []
   },
   "source": [
    "In this paper, the question of how the labor force participation rate from 1953 until 2020 in the United States varied with political party governance was explored. The findings are that both the state level, as determined by the governor's political party affiliation, and the national level, as determined by the president's political party affiliation, had no statistically significant correlation with the labor force participation rate of the state or country. Further research into other branches of government and political affiliations, both local and in the House of Representatives can be used to further describe the existence or non-existence of a relationship. Some limitations include the limited time scope due to data constraints, as well as the lack of statistical accounting for economic and social factors affecting labor force participation rates outside of preliminary research. In terms of broader implications, specific policies, and their effects would need to be observed as opposed to the general policies of each political party to determine their effectiveness. "
   ]
  },
  {
   "cell_type": "markdown",
   "id": "5706055c-d435-4890-8542-689056db5600",
   "metadata": {
    "editable": true,
    "slideshow": {
     "slide_type": "slide"
    },
    "tags": []
   },
   "source": [
    "<h2 style=\"text-align: center;\">Bibliography</h2>"
   ]
  },
  {
   "cell_type": "markdown",
   "id": "3c231ccb-e737-43df-9626-229fe72f9e8e",
   "metadata": {
    "editable": true,
    "slideshow": {
     "slide_type": "slide"
    },
    "tags": []
   },
   "source": [
    "Ashraf, Quamrul H., et al. “The Effect of Fertility Reduction on Economic Growth.” *Population and Development Review*, vol. 39, no. 1, 2013, pp. 97–130. JSTOR, [http://www.jstor.org/stable/41811954](http://www.jstor.org/stable/41811954). Accessed 11 Nov. 2024.  \n",
    "\n",
    "Autor, David & Duggan, Mark. (2003). The Rise In The Disability Rolls And The Decline In Unemployment. *The Quarterly Journal of Economics*. 118. 157-205. 10.1162/00335530360535171.  \n",
    "Bick, Alexander. “THE QUANTITATIVE ROLE OF CHILD CARE FOR FEMALE LABOR FORCE PARTICIPATION AND FERTILITY.” *Journal of the European Economic Association*, vol. 14, no. 3, 2016, pp. 639–68. JSTOR, [http://www.jstor.org/stable/43965320](http://www.jstor.org/stable/43965320). Accessed 11 Nov. 2024.  \n",
    "\n",
    "Borck, Rainald. “‘Adieu Rabenmutter’—Culture, Fertility, Female Labour Supply, the Gender Wage Gap and Childcare.” *Journal of Population Economics*, vol. 27, no. 3, 2014, pp. 739–65. JSTOR, [http://www.jstor.org/stable/44289682](http://www.jstor.org/stable/44289682). Accessed 11 Nov. 2024.  "
   ]
  },
  {
   "cell_type": "markdown",
   "id": "5cea6672-4cbc-4aa7-a0e8-b5224e05d48b",
   "metadata": {
    "editable": true,
    "slideshow": {
     "slide_type": "slide"
    },
    "tags": []
   },
   "source": [
    "Federal Reserve Bank of St. Louis. (n.d.). Civilian labor force participation rate [CIVPART]. Federal Reserve Bank of St. Louis. Retrieved November 11, 2024, from https://fred.stlouisfed.org/series/CIVPART\n",
    "\n",
    "Gustafsson, Siv, and Frank Stafford. “Child Care Subsidies and Labor Supply in Sweden.” *The Journal of Human Resources*, vol. 27, no. 1, 1992, pp. 204–30. JSTOR, [https://doi.org/10.2307/145917](https://doi.org/10.2307/145917). Accessed 11 Nov. 2024.  \n",
    "\n",
    "Johnson, William R., and Jonathan Skinner. “Labor Supply and Marital Separation.” *The American Economic Review*, vol. 76, no. 3, 1986, pp. 455–69. JSTOR, [http://www.jstor.org/stable/1813362](http://www.jstor.org/stable/1813362). Accessed 11 Nov. 2024.  \n"
   ]
  },
  {
   "cell_type": "markdown",
   "id": "d79ab81f-a339-4738-87f9-f18bff8bf3d6",
   "metadata": {
    "editable": true,
    "slideshow": {
     "slide_type": "slide"
    },
    "tags": []
   },
   "source": [
    "Juhn, Chinhui, and Simon Potter. “Changes in Labor Force Participation in the United States.” *The Journal of Economic Perspectives*, vol. 20, no. 3, 2006, pp. 27–46. JSTOR, [http://www.jstor.org/stable/30033665](http://www.jstor.org/stable/30033665). Accessed 11 Nov. 2024.  \n",
    "\n",
    "Johnson, William R., and Jonathan Skinner. “Labor Supply and Marital Separation.” *The American Economic Review*, vol. 76, no. 3, 1986, pp. 455–69. JSTOR, [http://www.jstor.org/stable/1813362](http://www.jstor.org/stable/1813362). Accessed 11 Nov. 2024.  \n",
    "\n",
    "Juhn, Chinhui, and Simon Potter. “Changes in Labor Force Participation in the United States.” *The Journal of Economic Perspectives*, vol. 20, no. 3, 2006, pp. 27–46. JSTOR, [http://www.jstor.org/stable/30033665](http://www.jstor.org/stable/30033665). Accessed 11 Nov. 2024.  \n"
   ]
  },
  {
   "cell_type": "markdown",
   "id": "426e4bac-b3fd-4de3-9749-611317b814d0",
   "metadata": {
    "editable": true,
    "slideshow": {
     "slide_type": "slide"
    },
    "tags": []
   },
   "source": [
    "Krueger, Alan B. “Brookings Papers on Economic Activity, Fall 2017.” [^1].  \n",
    "\n",
    "Loichinger, Elke, and Alexia Prskawetz. “Changes in Economic Activity: The Role of Age and Education.” *Demographic Research*, vol. 36, 2017, pp. 1185–208. JSTOR, [http://www.jstor.org/stable/26332163](http://www.jstor.org/stable/26332163). Accessed 11 Nov. 2024.  \n",
    "\n",
    "Parsons, Donald O. “The Decline in Male Labor Force Participation.” *Journal of Political Economy*, vol. 88, no. 1, 1980, pp. 117–34. JSTOR, [http://www.jstor.org/stable/1830962](http://www.jstor.org/stable/1830962). Accessed 11 Nov. 2024."
   ]
  }
 ],
 "metadata": {
  "kernelspec": {
   "display_name": "econark",
   "language": "python",
   "name": "econark"
  },
  "language_info": {
   "codemirror_mode": {
    "name": "ipython",
    "version": 3
   },
   "file_extension": ".py",
   "mimetype": "text/x-python",
   "name": "python",
   "nbconvert_exporter": "python",
   "pygments_lexer": "ipython3",
   "version": "3.11.10"
  }
 },
 "nbformat": 4,
 "nbformat_minor": 5
}
