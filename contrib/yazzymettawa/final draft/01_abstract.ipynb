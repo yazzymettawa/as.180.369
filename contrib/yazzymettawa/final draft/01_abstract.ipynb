{
 "cells": [
  {
   "cell_type": "markdown",
   "id": "a7357105-d2ed-46ed-b094-450c300dbebc",
   "metadata": {
    "editable": true,
    "slideshow": {
     "slide_type": ""
    },
    "tags": []
   },
   "source": [
    "# Abstract"
   ]
  },
  {
   "cell_type": "markdown",
   "id": "ff978ed7-98c1-45c0-ab84-731c12d8c97f",
   "metadata": {
    "editable": true,
    "slideshow": {
     "slide_type": ""
    },
    "tags": []
   },
   "source": [
    "+++ {\"part\": \"abstract\"}\n",
    "This paper explores how labor force participation rates in the United States from 1953 to 2020 are influenced by political party governance at the state and national level. Using a Weighted Least Squared (WLS) regression, the study analyzes changes in labor force participation, comparing states with Republican governors (treatment group) to those with Democratic governors (control group), as well as an Ordinary Least Squared (OLS) regression analyzing changes in labor force participation against the political party of the president, either Republican (treatment group) or Democratic (control group). The findings suggest that on both the national and state level political party leadership does not correlate with increased labor force participation. Therefore, it can not be concluded that there exists a direct relationship. \n",
    "\n",
    "+++"
   ]
  }
 ],
 "metadata": {
  "kernelspec": {
   "display_name": "econark",
   "language": "python",
   "name": "econark"
  },
  "language_info": {
   "codemirror_mode": {
    "name": "ipython",
    "version": 3
   },
   "file_extension": ".py",
   "mimetype": "text/x-python",
   "name": "python",
   "nbconvert_exporter": "python",
   "pygments_lexer": "ipython3",
   "version": "3.11.10"
  }
 },
 "nbformat": 4,
 "nbformat_minor": 5
}
