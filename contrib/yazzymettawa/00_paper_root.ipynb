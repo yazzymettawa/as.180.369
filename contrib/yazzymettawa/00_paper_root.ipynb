{
 "cells": [
  {
   "cell_type": "markdown",
   "id": "2f92fe02-ae71-4c46-9630-ccedcec8b0a1",
   "metadata": {},
   "source": [
    ":::{include} 01_abstract.md :::\n",
    "\n",
    ":::{include} 02_introduction.md :::\n",
    "\n",
    ":::{include} 03_literature.md :::\n",
    "\n",
    ":::{include} 04_dataanalysis.ipynb :::\n",
    "\n",
    ":::{include} 05_conclusion.md :::\n",
    "\n",
    ":::{include} 06_bibliography.ipynb :::\n",
    "\n",
    ":::{include} 07_appendix.ipynb :::"
   ]
  },
  {
   "cell_type": "markdown",
   "id": "22e29e64-50a5-4196-ba01-03ccbea1c76d",
   "metadata": {},
   "source": [
    ":::{include} 01_abstract.md :::\n",
    "\n",
    ":::{include} 02_introduction.md :::\n",
    "\n",
    ":::{include} 03_literature.md :::\n",
    "\n",
    ":::{include} 04_dataanalysis.ipynb :::\n",
    "\n",
    ":::{include} 05_conclusion.md :::\n",
    "\n",
    ":::{include} 06_bibliography.ipynb :::\n",
    "\n",
    ":::{include} 07_appendix.ipynb :::"
   ]
  }
 ],
 "metadata": {
  "kernelspec": {
   "display_name": "econark",
   "language": "python",
   "name": "econark"
  },
  "language_info": {
   "codemirror_mode": {
    "name": "ipython",
    "version": 3
   },
   "file_extension": ".py",
   "mimetype": "text/x-python",
   "name": "python",
   "nbconvert_exporter": "python",
   "pygments_lexer": "ipython3",
   "version": "3.11.10"
  }
 },
 "nbformat": 4,
 "nbformat_minor": 5
}
