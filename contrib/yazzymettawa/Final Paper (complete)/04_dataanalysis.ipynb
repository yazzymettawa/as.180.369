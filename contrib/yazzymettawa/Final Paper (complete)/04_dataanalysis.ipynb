{
 "cells": [
  {
   "cell_type": "markdown",
   "id": "cf1e1877-e8b8-4c54-ba9b-ca16113be9d4",
   "metadata": {
    "editable": true,
    "slideshow": {
     "slide_type": ""
    },
    "tags": []
   },
   "source": [
    "# Methodology"
   ]
  },
  {
   "cell_type": "markdown",
   "id": "1c0069ae-5751-4546-ad30-8e123eef7549",
   "metadata": {
    "editable": true,
    "slideshow": {
     "slide_type": ""
    },
    "tags": []
   },
   "source": [
    "This study employs a quantitative approach to analyze labor force participation rates across all 50 U.S. states from 1976 to 2020. Data on labor force participation rates were sourced from The Federal Reserve Bank of St. Louis Fed[^1], while information regarding the political affiliation of each state's governor during this period was compiled into a binary variable, where 1 indicates a Democratic governor and 0 indicates a Republican governor, with the data obtained from Open ICPSR. Additionally, population figures for each state, essential for calculating weighted participation rates, were retrieved from The United States Census Bureau. To compute the weighted labor force participation rates, the study utilized the formula: \n",
    "\n",
    "$$\n",
    "\\text{Weighted Mean} = \\frac{\\sum (\\text{Participation Rate} \\times \\text{Population})}{\\sum \\text{Population}}\n",
    "$$\n",
    "\n",
    "As well as a model of the regression analysis:\n",
    "$$\n",
    "\\text{Labor Force Participation Rate} = \\beta_0 + \\beta_1 \\times \\text{Democratic Governor} + \\epsilon\n",
    "$$\n",
    "\n",
    "To conduct the regression analysis, Python was employed, utilizing libraries such as `pandas` and `statsmodels`. The weighted least squares (WLS) method was applied to account for population size, with rigorous checks for linearity, independence, homoscedasticity, and normality of residuals. This methodology provides a comprehensive framework to assess the impact of political governance on labor force participation across the states, facilitating a nuanced understanding of the relationship between governance and workforce engagement.\n",
    "\n",
    "[^1]: Federal Reserve Bank of St. Louis. (n.d.). Civilian labor force participation rate [CIVPART]. Federal Reserve Bank of St. Louis. Retrieved November 11, 2024, from https://fred.stlouisfed.org/series/CIVPART"
   ]
  },
  {
   "cell_type": "markdown",
   "id": "d2b2ace1-0124-4fd2-b5c6-806f0820e738",
   "metadata": {},
   "source": [
    "**Labor Force Participation Rate (national) Data -- from FRED**"
   ]
  },
  {
   "cell_type": "markdown",
   "id": "a66b43ad-7744-43b5-b3cf-6ec24c30800e",
   "metadata": {},
   "source": [
    "![My Image](FRED.png)"
   ]
  },
  {
   "cell_type": "markdown",
   "id": "91d316d2-9d26-4232-abf0-3908702610d5",
   "metadata": {
    "editable": true,
    "slideshow": {
     "slide_type": ""
    },
    "tags": []
   },
   "source": [
    "**Weighted Mean Calculations**"
   ]
  },
  {
   "cell_type": "code",
   "execution_count": 7,
   "id": "26d8c6eb-3871-457b-a950-565a244f1e42",
   "metadata": {
    "editable": true,
    "slideshow": {
     "slide_type": ""
    },
    "tags": []
   },
   "outputs": [
    {
     "name": "stdout",
     "output_type": "stream",
     "text": [
      "        party  Weighted_Mean\n",
      "0  Republican      65.486649\n",
      "1  Democratic      65.188772\n"
     ]
    }
   ],
   "source": [
    "import pandas as pd\n",
    "\n",
    "# Load data from a CSV file\n",
    "df = pd.read_csv('/home/idies/workspace/Temporary/ymettawa/scratch/as.180.369/contrib/yazzymettawa/Paper_Final/Data/stateLFPR.csv')  # Replace 'data.csv' with your actual file path\n",
    "\n",
    "# Calculate weighted mean for each party\n",
    "weighted_means = (\n",
    "    df.assign(Weighted_Participation=df['number'] * df['population'])\n",
    "    .groupby('party')\n",
    "    .agg(Weighted_Mean=('Weighted_Participation', 'sum'),\n",
    "         Total_Population=('population', 'sum'))\n",
    "    .reset_index()\n",
    ")\n",
    "\n",
    "# Calculate final weighted mean\n",
    "weighted_means['Weighted_Mean'] = weighted_means['Weighted_Mean'] / weighted_means['Total_Population']\n",
    "\n",
    "# Map party numbers to names\n",
    "weighted_means['party'] = weighted_means['party'].map({0: 'Republican', 1: 'Democratic'})\n",
    "# Drop unnecessary columns\n",
    "weighted_means = weighted_means[['party', 'Weighted_Mean']]\n",
    "\n",
    "# Print the results\n",
    "print(weighted_means)"
   ]
  },
  {
   "cell_type": "markdown",
   "id": "8cc71d3c-b9ee-4dcb-ae87-531e17b0dd7d",
   "metadata": {},
   "source": [
    "**State Level WLS Regression**"
   ]
  },
  {
   "cell_type": "code",
   "execution_count": 8,
   "id": "e8c5b3dd-50f0-4519-b077-bea38ac75494",
   "metadata": {
    "editable": true,
    "slideshow": {
     "slide_type": ""
    },
    "tags": []
   },
   "outputs": [
    {
     "name": "stdout",
     "output_type": "stream",
     "text": [
      "                            WLS Regression Results                            \n",
      "==============================================================================\n",
      "Dep. Variable:                 number   R-squared:                       0.002\n",
      "Model:                            WLS   Adj. R-squared:                  0.001\n",
      "Method:                 Least Squares   F-statistic:                     3.544\n",
      "Date:                Fri, 06 Dec 2024   Prob (F-statistic):             0.0599\n",
      "Time:                        13:39:01   Log-Likelihood:                -5336.4\n",
      "No. Observations:                1839   AIC:                         1.068e+04\n",
      "Df Residuals:                    1837   BIC:                         1.069e+04\n",
      "Df Model:                           1                                         \n",
      "Covariance Type:            nonrobust                                         \n",
      "==============================================================================\n",
      "                 coef    std err          t      P>|t|      [0.025      0.975]\n",
      "------------------------------------------------------------------------------\n",
      "const         65.4866      0.109    602.302      0.000      65.273      65.700\n",
      "party         -0.2979      0.158     -1.882      0.060      -0.608       0.012\n",
      "==============================================================================\n",
      "Omnibus:                      231.480   Durbin-Watson:                   1.596\n",
      "Prob(Omnibus):                  0.000   Jarque-Bera (JB):              370.087\n",
      "Skew:                          -0.865   Prob(JB):                     4.33e-81\n",
      "Kurtosis:                       4.356   Cond. No.                         2.56\n",
      "==============================================================================\n",
      "\n",
      "Notes:\n",
      "[1] Standard Errors assume that the covariance matrix of the errors is correctly specified.\n"
     ]
    }
   ],
   "source": [
    "import pandas as pd\n",
    "import statsmodels.api as sm\n",
    "import warnings\n",
    "\n",
    "# Load data from a CSV file\n",
    "df = pd.read_csv('/home/idies/workspace/Temporary/ymettawa/scratch/as.180.369/contrib/yazzymettawa/Paper_Final/Data/stateLFPR.csv')  # Replace 'data.csv' with your actual file path\n",
    "\n",
    "# Define the dependent variable (Y) and independent variable (X)\n",
    "Y = df['number']\n",
    "X = df['party']  # Use the Party as a binary variable for regression\n",
    "\n",
    "# Add a constant to the model\n",
    "X = sm.add_constant(X)\n",
    "\n",
    "# Fit the weighted regression model\n",
    "weights = df['population']  # Use population as weights\n",
    "\n",
    "# Check for the number of observations\n",
    "if len(df) >= 8:\n",
    "    model = sm.WLS(Y, X, weights=weights).fit()\n",
    "    print(model.summary())\n",
    "else:\n",
    "    with warnings.catch_warnings():\n",
    "        warnings.simplefilter(\"ignore\")\n",
    "        model = sm.WLS(Y, X, weights=weights).fit()\n",
    "        print(model.summary())"
   ]
  },
  {
   "cell_type": "markdown",
   "id": "dfaad75a-3cbc-449b-b631-c7078a6e1a34",
   "metadata": {
    "editable": true,
    "slideshow": {
     "slide_type": ""
    },
    "tags": []
   },
   "source": [
    "**Interpretting the Results**\n",
    "Examine the coefficents \n",
    "$$\n",
    "\\beta_1 \\text{> 0 = states with Democratic governors have higher LFPR} \n",
    "$$\n",
    "\n",
    "$$\n",
    "\\beta_1 \\text{< 0 = states with Democratic governors have lower LFPR} \n",
    "$$\n",
    "\n",
    "Statistical Significance: Look at the p-values associated with your coefficients to determine if the results are statistically significant (typically, p < 0.05).\n",
    "Model Fit: Check the R-squared value to see how much of the variance in labor force participation is explained by your model."
   ]
  },
  {
   "cell_type": "markdown",
   "id": "8a034f61-daa7-44a6-8556-e42d6ab2677d",
   "metadata": {},
   "source": [
    "**National Level OLS Regression**"
   ]
  },
  {
   "cell_type": "code",
   "execution_count": 9,
   "id": "34d6a66a-5e8d-47c4-8fe3-838db96f9a1c",
   "metadata": {
    "editable": true,
    "slideshow": {
     "slide_type": ""
    },
    "tags": []
   },
   "outputs": [
    {
     "name": "stdout",
     "output_type": "stream",
     "text": [
      "                            OLS Regression Results                            \n",
      "==============================================================================\n",
      "Dep. Variable:                CIVPART   R-squared:                       0.000\n",
      "Model:                            OLS   Adj. R-squared:                 -0.001\n",
      "Method:                 Least Squares   F-statistic:                    0.1830\n",
      "Date:                Fri, 06 Dec 2024   Prob (F-statistic):              0.669\n",
      "Time:                        13:39:04   Log-Likelihood:                -2023.5\n",
      "No. Observations:                 816   AIC:                             4051.\n",
      "Df Residuals:                     814   BIC:                             4060.\n",
      "Df Model:                           1                                         \n",
      "Covariance Type:            nonrobust                                         \n",
      "==============================================================================\n",
      "                 coef    std err          t      P>|t|      [0.025      0.975]\n",
      "------------------------------------------------------------------------------\n",
      "const         63.1123      0.132    478.078      0.000      62.853      63.371\n",
      "Party          0.0880      0.206      0.428      0.669      -0.316       0.492\n",
      "==============================================================================\n",
      "Omnibus:                    10216.381   Durbin-Watson:                   0.005\n",
      "Prob(Omnibus):                  0.000   Jarque-Bera (JB):               72.909\n",
      "Skew:                          -0.184   Prob(JB):                     1.47e-16\n",
      "Kurtosis:                       1.583   Cond. No.                         2.46\n",
      "==============================================================================\n",
      "\n",
      "Notes:\n",
      "[1] Standard Errors assume that the covariance matrix of the errors is correctly specified.\n"
     ]
    }
   ],
   "source": [
    "import pandas as pd\n",
    "import statsmodels.api as sm\n",
    "\n",
    "def ols_regression(csv_file):\n",
    "    # Load the CSV file into a DataFrame\n",
    "    df = pd.read_csv(csv_file)\n",
    "\n",
    "    # Extract the necessary columns: 'CIVPART' and 'Party'\n",
    "    X = df.iloc[:, 4]  # Party column (5th column)\n",
    "    y = df.iloc[:, 1]  # CIVPART column (2nd column)\n",
    "\n",
    "    # Add a constant to the model for the intercept term\n",
    "    X = sm.add_constant(X)\n",
    "\n",
    "    # Fit the OLS regression model\n",
    "    model = sm.OLS(y, X).fit()\n",
    "\n",
    "    # Print the summary of the regression results\n",
    "    print(model.summary())\n",
    "\n",
    "# Example usage:\n",
    "ols_regression('/home/idies/workspace/Temporary/ymettawa/scratch/as.180.369/contrib/yazzymettawa/Paper_Final/Data/nationalLFPR.csv')\n"
   ]
  },
  {
   "cell_type": "markdown",
   "id": "ac742ef4-6ab2-47d5-a6dd-760abca4ffc0",
   "metadata": {},
   "source": [
    "# Results"
   ]
  },
  {
   "cell_type": "markdown",
   "id": "a35647f3-1a9b-433a-91de-b42a99470042",
   "metadata": {},
   "source": [
    "Returning to the research question: “How does the labor force participation rate from the 1953 until 2020 in the United States vary with political party governance\" the results suggest that there is little evidence to support a strong or reliable relationship between political party governance and labor force participation rates. This was found to be the case when observing both national political party governance (through the president's party affiliation and state labor force participation rates) as well on the state level (through the governor's party affiliation and state labor force participation rates). However, on the state level the tendency was for participation rates to be higher during Democrat governorships, while on the national level the tendency was for participation rates to be higher during Republican presidencies further undermining any relationship. "
   ]
  },
  {
   "cell_type": "markdown",
   "id": "f82c6279-9b51-4dc3-8463-5c158a1c5e9b",
   "metadata": {
    "editable": true,
    "slideshow": {
     "slide_type": ""
    },
    "tags": []
   },
   "source": [
    "**State Level**"
   ]
  },
  {
   "cell_type": "markdown",
   "id": "3cab205c-1f45-435b-8633-112e6f984b94",
   "metadata": {
    "editable": true,
    "slideshow": {
     "slide_type": ""
    },
    "tags": []
   },
   "source": [
    "The WLS regression results indicate a  weak relationship between the independent variable (party) and the dependent variable (labor force participation rate). The effect of \"party\" is marginally statistically significant (p ≈ 0.06), but the overall model fit is very poor (R² ≈ 0.002). The low R-squared value indicates that the predictor \"party\" explains almost none of the variance in \"number.\""
   ]
  },
  {
   "cell_type": "markdown",
   "id": "810d5334-aab9-4c9b-930a-bbb3b7c9ad0f",
   "metadata": {
    "editable": true,
    "slideshow": {
     "slide_type": ""
    },
    "tags": []
   },
   "source": [
    "$$\n",
    "\\text{STATE CIVPART} = 65.4866 + -0.2979 \\times \\text{Party}\n",
    "$$\n"
   ]
  },
  {
   "cell_type": "markdown",
   "id": "8ae91ab8-0092-42e5-b805-1baa67b4bc89",
   "metadata": {},
   "source": [
    "**National Level**"
   ]
  },
  {
   "cell_type": "markdown",
   "id": "f635145d-3238-46ee-9ade-5007d7267405",
   "metadata": {
    "editable": true,
    "slideshow": {
     "slide_type": ""
    },
    "tags": []
   },
   "source": [
    "The OLS regression results indicate a  weak relationship between the independent variable (party) and the dependent variable (labor force participation rate). The effect of \"party\" is marginally statistically significant (p ≈ 0.669), but the overall model fit is very poor (with an adjusted R² ≈ -0.001). The low R-squared value indicates that the predictor \"party\" explains almost none of the variance in \"number.\""
   ]
  },
  {
   "cell_type": "markdown",
   "id": "d53fa5ee-eefd-4ae8-82ee-cf25850cadea",
   "metadata": {
    "editable": true,
    "slideshow": {
     "slide_type": ""
    },
    "tags": []
   },
   "source": [
    "$$\n",
    "\\text{NATIONAL CIVPART} = 63.1123 + 0.0880 \\times \\text{Party}\n",
    "$$\n"
   ]
  },
  {
   "cell_type": "markdown",
   "id": "2dee7239-0a32-41ff-a58f-a6265b506868",
   "metadata": {},
   "source": [
    "# Discussion"
   ]
  },
  {
   "cell_type": "markdown",
   "id": "a6f27590-1e11-49dd-99b8-9b4cadb63966",
   "metadata": {},
   "source": [
    "**Limitations and Next Steps**"
   ]
  },
  {
   "cell_type": "markdown",
   "id": "3e33caf3-e7bf-4708-af5e-760cc587b881",
   "metadata": {},
   "source": [
    "Some limitations of the analysis include the simplicity of the econometric approach, which may not fully capture the complexity of political dynamics. Additionally, the political party in power does not necessarily indicate the effect of a policy, as the impact of a policy may only become evident once a different party assumes control. The analysis also excluded third parties for the sake of simplicity, focusing only on the governor and president as key political offices, while not considering the roles of the Senate and House of Representatives. A more meaningful approach might involve analyzing specific policies to assess their impact on participation rates, and then examining which parties supported or opposed those policies to better understand their effects."
   ]
  }
 ],
 "metadata": {
  "kernelspec": {
   "display_name": "econark",
   "language": "python",
   "name": "econark"
  },
  "language_info": {
   "codemirror_mode": {
    "name": "ipython",
    "version": 3
   },
   "file_extension": ".py",
   "mimetype": "text/x-python",
   "name": "python",
   "nbconvert_exporter": "python",
   "pygments_lexer": "ipython3",
   "version": "3.11.10"
  }
 },
 "nbformat": 4,
 "nbformat_minor": 5
}
