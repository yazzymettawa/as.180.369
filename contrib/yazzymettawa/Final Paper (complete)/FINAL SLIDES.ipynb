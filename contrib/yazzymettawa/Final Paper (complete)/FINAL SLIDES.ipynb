{
 "cells": [
  {
   "cell_type": "markdown",
   "id": "d442c73e-afc9-4083-893d-a544fad5da61",
   "metadata": {
    "editable": true,
    "slideshow": {
     "slide_type": "slide"
    },
    "tags": []
   },
   "source": [
    "<h1 style=\"text-align: center;\">   </h1>\n",
    "<h1 style=\"text-align: center;\">Labor Force Participation Rates & Political Party</h1>\n",
    "<h3 style=\"text-align: center;\">Examining Political Influence on Labor Force Participation Rates</h3>\n",
    "\n",
    "\n",
    "&nbsp;\n",
    "\n",
    "<h4 style=\"text-align: center;\"> by Yasmine Mettawa</h4>\n",
    "<h4 style=\"text-align: center;\">December 2, 2024</h4>"
   ]
  },
  {
   "cell_type": "markdown",
   "id": "37fcbb37-9f97-4f2c-b0bc-dfd82b8753a8",
   "metadata": {
    "editable": true,
    "slideshow": {
     "slide_type": "slide"
    },
    "tags": []
   },
   "source": [
    "<h2 style=\"text-align: center;\">The Data</h2>\n",
    "\n",
    "<ul>\n",
    "  <li>National civilian labor force participation rate stands at 62.6%</li>\n",
    "  <li>Peak in the 1990s</li>\n",
    "  <li>FRED data: 1948-present</li>\n",
    "</ul>\n",
    "\n",
    "<img src=\"FRED.png\" alt=\"description\" />"
   ]
  },
  {
   "cell_type": "markdown",
   "id": "0431840b-1820-45eb-8c56-44b612ee25b7",
   "metadata": {
    "editable": true,
    "slideshow": {
     "slide_type": "slide"
    },
    "tags": []
   },
   "source": [
    "<h2 style=\"text-align: center;\">Explanation For Growth</h2>\n",
    "\n",
    "<img src=\"women.png\" alt=\"US Bureau of Labor Statistics\" width=\"1200\" height=\"800\" />\n"
   ]
  },
  {
   "cell_type": "markdown",
   "id": "ed6c09f6-81dc-43f9-b5b4-abd901cb569b",
   "metadata": {
    "editable": true,
    "slideshow": {
     "slide_type": "slide"
    },
    "tags": []
   },
   "source": [
    "<h2 style=\"text-align: center;\">Decline in the 2000s</h2>\n",
    "\n",
    "<ul>\n",
    "  <li>Teenagers (16-19): -%17.7</li>\n",
    "  <li>Young Adults (20-24): -%7.1</li>\n",
    "  <li>Mothers w/ Children Under 18: Decrease since 2000</li>\n",
    "  <li>Women Over 55: +%8.6</li>\n",
    "  <li>Men Over 55: +%5.8</li>\n",
    "</ul>"
   ]
  },
  {
   "cell_type": "markdown",
   "id": "324e55cb-9717-4547-85a2-5da8333b2f92",
   "metadata": {
    "editable": true,
    "slideshow": {
     "slide_type": "slide"
    },
    "tags": []
   },
   "source": [
    "<h2 style=\"text-align: center;\">What Affects The Labor Force Participation Rate</h2>\n",
    "\n",
    "<ul>\n",
    "  <li>Demographic Shifts</li>\n",
    "  <li>Health</li>\n",
    "  <li>Domestic Sphere</li>\n",
    "</ul>"
   ]
  },
  {
   "cell_type": "markdown",
   "id": "fdce90e7-600a-4c03-ad8b-68f65a243fe8",
   "metadata": {
    "editable": true,
    "slideshow": {
     "slide_type": "slide"
    },
    "tags": []
   },
   "source": [
    "<h2 style=\"text-align: center;\">Why Political Party?</h2>\n",
    "\n",
    "<ul>\n",
    "<li>Social Security laws</li>\n",
    "<li>Changes to private retirement plans</li>\n",
    "<li>Rising health care costs </li>\n",
    "<li>Increase in educational attainment</li>\n",
    "\n",
    "</ul>"
   ]
  },
  {
   "cell_type": "markdown",
   "id": "95e34590-8137-45b3-828a-9a3e4df373dd",
   "metadata": {
    "editable": true,
    "slideshow": {
     "slide_type": "slide"
    },
    "tags": []
   },
   "source": [
    "<h2 style=\"text-align: center;\">Does Political Party Leadership Have An Affect?</h2>\n",
    "<h2 style=\"text-align: center;\">   </h2>\n",
    "\n",
    "<img src=\"civpart.png\" alt=\"description\" />"
   ]
  },
  {
   "cell_type": "markdown",
   "id": "c1a410c7-a34d-4e29-89d0-1472b5e5e7c6",
   "metadata": {
    "editable": true,
    "slideshow": {
     "slide_type": "slide"
    },
    "tags": []
   },
   "source": [
    "<h2 style=\"text-align: center;\">Methodology</h2>\n",
    "\n",
    "<ul>\n",
    "  <li>National Data: 1948-2020</li>\n",
    "  <li>OLS Regression</li>\n",
    "  <li>State Data: 1976-2020</li>\n",
    "  <li>WLS Regression</li>\n",
    "</ul>"
   ]
  },
  {
   "cell_type": "markdown",
   "id": "bb62e418-cc39-44cb-be01-7fc7881b5feb",
   "metadata": {
    "editable": true,
    "slideshow": {
     "slide_type": "slide"
    },
    "tags": []
   },
   "source": [
    "<h2 style=\"text-align: center;\">National Level</h2>\n",
    "\n",
    "<img src=\"OLS.png\" alt=\"description\" />"
   ]
  },
  {
   "cell_type": "markdown",
   "id": "be46fe91-5bb4-4cde-bb9b-0bc8801792aa",
   "metadata": {
    "editable": true,
    "slideshow": {
     "slide_type": "slide"
    },
    "tags": []
   },
   "source": [
    "<h2 style=\"text-align: center;\">Important Figures</h2>\n",
    "\n",
    "$$\n",
    "\\text{NATIONAL CIVPART} = 63.11 + 0.09 \\times \\text{Party}\n",
    "$$\n",
    "\n",
    "$R^2 = 0.000$\n",
    "<h2 style=\"text-align: center;\"></h2>\n",
    "\n",
    "$p ≈ 0.06$"
   ]
  },
  {
   "cell_type": "markdown",
   "id": "ea9f153b-5b49-4ea7-9225-ce174a8dc6b1",
   "metadata": {
    "editable": true,
    "slideshow": {
     "slide_type": "slide"
    },
    "tags": []
   },
   "source": [
    "<h2 style=\"text-align: center;\">State Level</h2>\n",
    "\n",
    "<img src=\"WLS.png\" alt=\"description\" />"
   ]
  },
  {
   "cell_type": "markdown",
   "id": "d03085a4-9f77-4a48-b99f-5c2a3cc2e795",
   "metadata": {
    "editable": true,
    "slideshow": {
     "slide_type": "slide"
    },
    "tags": []
   },
   "source": [
    "<h2 style=\"text-align: center;\">Important Figures</h2>\n",
    "\n",
    "$$\n",
    "\\text{STATE CIVPART} = 65.4866 + -0.2979 \\times \\text{Party}\n",
    "$$\n",
    "\n",
    "$R^2 = 0.002$\n",
    "<h2 style=\"text-align: center;\"></h2>\n",
    "\n",
    "$p ≈ 0.06$"
   ]
  },
  {
   "cell_type": "markdown",
   "id": "abcfcc47-24df-4e54-8631-4881f5b737af",
   "metadata": {
    "editable": true,
    "slideshow": {
     "slide_type": "slide"
    },
    "tags": []
   },
   "source": [
    "<h2 style=\"text-align: center;\">Results and Next Steps</h2>\n",
    "<h2 style=\"text-align: center;\">   </h2>\n",
    "\n",
    "<h3 style=\"text-align: center;\">No statistically significant relationship between political party and labor force participation rate</h3>\n",
    "<ul>\n",
    "  <li>Both state and national findings were not statistically significant</li>\n",
    "  <li>The case of third parties</li>\n",
    "  <li>Effects of policies will occur in the future and not short term</li>\n",
    "  <li>General Limitations</li>\n",
    "<li>House and senate</li>    \n",
    "  <li>Policy approach</li>    \n",
    "\n",
    "</ul>"
   ]
  }
 ],
 "metadata": {
  "kernelspec": {
   "display_name": "econark",
   "language": "python",
   "name": "econark"
  },
  "language_info": {
   "codemirror_mode": {
    "name": "ipython",
    "version": 3
   },
   "file_extension": ".py",
   "mimetype": "text/x-python",
   "name": "python",
   "nbconvert_exporter": "python",
   "pygments_lexer": "ipython3",
   "version": "3.11.10"
  }
 },
 "nbformat": 4,
 "nbformat_minor": 5
}
